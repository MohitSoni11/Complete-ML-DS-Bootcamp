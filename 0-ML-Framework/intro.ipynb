{
 "cells": [
  {
   "attachments": {},
   "cell_type": "markdown",
   "metadata": {},
   "source": [
    "# Machine Learning Framework\n",
    "\n",
    "<img style='width:800px' src='ml-framework-img'>"
   ]
  },
  {
   "attachments": {},
   "cell_type": "markdown",
   "metadata": {},
   "source": [
    "## 1. Problem Definition\n",
    "* What problem are we trying to solve?\n",
    "* When shouldn’t you use ML?\n",
    "  * Will a simple hand-coded instruction based system work?\n",
    "* Main types of ML\n",
    "  * Supervised Learning → I know my inputs and outputs\n",
    "  * Unsupervised Learning → I’m not sure of the outputs but I have the inputs\n",
    "  * Transfer Learning → I think my problem may be similar to something else\n",
    "  * Reinforcement Learning → Telling the computer to maximize the points it gets may be the way"
   ]
  },
  {
   "attachments": {},
   "cell_type": "markdown",
   "metadata": {},
   "source": [
    "## 2. Data\n",
    "* What kind of data do we have?\n",
    "* Static Data = data that doesn’t change over time\n",
    "  * Record of patients who got or didn’t get heart disease\n",
    "* Streaming data = data that constantly changes over time\n",
    "  * Stock market\n",
    "* Structured data\n",
    "  * Rows and columns\n",
    "  * Excel/CSV file\n",
    "* Unstructured data\n",
    "  * Images\n",
    "  * Videos/Audios\n",
    "  * Text\n",
    "* **“The more the data, the better”**"
   ]
  },
  {
   "attachments": {},
   "cell_type": "markdown",
   "metadata": {},
   "source": [
    "## 3. Evaluation\n",
    "* What defines success for us?\n",
    "* We know getting 100% accuracy may be infeasible so what is going to be the limit at which we can consider the results as sufficiently good?\n",
    "* Different types of metrics\n",
    "  * Accuracy\n",
    "  * Precision\n",
    "  * Recall\n",
    "* Finding people with heart disease\n",
    "  * May want model that has accuracy > 99% because heart disease is a very important issue\n",
    "* Finding spam emails\n",
    "  * May suffice with a model that has 80% accuracy"
   ]
  },
  {
   "attachments": {},
   "cell_type": "markdown",
   "metadata": {},
   "source": [
    "## 4. Features\n",
    "* What do we already know about the data\n",
    "* How can we use the data to create more useful indicators?\n",
    "* We want to use the feature variables to predict the target variable(s)\n",
    "* Numerical Feature Variables\n",
    "  * Weight/Height\n",
    "* Categorical Feature Variables\n",
    "  * Sex/Address\n",
    "  * Have to later convert these variables into numerical\n",
    "* Derived Feature Variables (Feature engineering)\n",
    "  * Using existing data to create new features\n",
    "  * Finding new data and incorporating it into existing data\n",
    "* Feature Coverage\n",
    "  * Want more than 10% of a feature to not have missing values"
   ]
  },
  {
   "attachments": {},
   "cell_type": "markdown",
   "metadata": {},
   "source": [
    "## 5. Modelling\n",
    "* Based on our problem and data, what model should we use?\n",
    "* Figuring out the correct model for the problem you're solving?\n",
    "* <u>The most important concept in ML: 3 sets</u>\n",
    "    * Training (70-80%)\n",
    "        * Train your model on this\n",
    "    * Validation (10-15%)\n",
    "        * Tune your model on this\n",
    "    * Test (10-15%)\n",
    "        * Test and compare on this\n",
    "        * Cannot use test set to tune model because then the model may not be learning well, it may just be memorizing the test set (overfitting for the test set) making it hard for the model to generalize in the future even though it may be showing you a great accuracy on the test set\n",
    "    * Generalization → ability for a ML model to perform well on data it hasn’t seen before\n",
    "* Choosing a model - Training set\n",
    "    * Structured data → decision trees, random forest\n",
    "    * Unstructured data → deep learning, transfer learning\n",
    "    * Try less data in the beginning because some models (Neural Networks) take a long time to train\n",
    "* Tuning - Training and/or Validation set\n",
    "    * Hyperparameters can be tweaked for a model\n",
    "        * Random Forest → # of trees\n",
    "        * Neural Networks → # of layers\n",
    "* Model Comparison - Test set\n",
    "    * Overfitting\n",
    "        * Data leakage - some test set leaks into training data\n",
    "        * Fixes\n",
    "            * Collect more data\n",
    "            * Try a less advanced model\n",
    "    * Underfitting\n",
    "        * Data mismatch - test set doesn’t match format of train set\n",
    "        * Fixes\n",
    "            * Try more advanced model\n",
    "            * Increase model hyperparameters\n",
    "            * Reduce amount of features\n",
    "            * Train longer\n",
    "    * When comparing models, make sure they have been trained and tested on the same data\n",
    "    * Not only accuracy, other things (like training time) can also influence which model you want to use"
   ]
  },
  {
   "attachments": {},
   "cell_type": "markdown",
   "metadata": {},
   "source": [
    "## 6. Experimentation\n",
    "* How could we improve/what can we try next?\n",
    "* You will need to cycle through all the steps above to achieve success"
   ]
  }
 ],
 "metadata": {
  "language_info": {
   "name": "python"
  },
  "orig_nbformat": 4
 },
 "nbformat": 4,
 "nbformat_minor": 2
}
